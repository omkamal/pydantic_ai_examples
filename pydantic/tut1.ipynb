{
 "cells": [
  {
   "cell_type": "markdown",
   "metadata": {},
   "source": [
    "# Pydantic V2 Tutorial\n",
    "## Class 1"
   ]
  },
  {
   "cell_type": "code",
   "execution_count": 1,
   "metadata": {},
   "outputs": [
    {
     "name": "stdout",
     "output_type": "stream",
     "text": [
      "2.10.6\n"
     ]
    }
   ],
   "source": [
    "import pydantic\n",
    "print(pydantic.__version__)"
   ]
  },
  {
   "cell_type": "code",
   "execution_count": 2,
   "metadata": {},
   "outputs": [
    {
     "name": "stdout",
     "output_type": "stream",
     "text": [
      "Expected id to be an int, got str\n"
     ]
    }
   ],
   "source": [
    "class User:\n",
    "    def __init__(self, id, name='Jane Doe'):\n",
    "        if not isinstance(id, int):\n",
    "            raise TypeError(f'Expected id to be an int, got {type(id).__name__}')\n",
    "        \n",
    "        if not isinstance(name, str):\n",
    "            raise TypeError(f'Expected name to be a str, got {type(name).__name__}')\n",
    "        \n",
    "        self.id = id\n",
    "        self.name = name\n",
    "\n",
    "try:\n",
    "    user = User(id='123')\n",
    "except TypeError as e:\n",
    "    print(e)"
   ]
  },
  {
   "cell_type": "code",
   "execution_count": 3,
   "metadata": {},
   "outputs": [],
   "source": [
    "from pydantic import BaseModel\n",
    "\n",
    "class User(BaseModel):\n",
    "    id: int\n",
    "    name: str = 'Jane Doe'\n",
    "\n",
    "try:\n",
    "    user = User(id='123') \n",
    "except pydantic.error_wrappers.ValidationError as e:\n",
    "    print(e)\n",
    "\n",
    "    "
   ]
  },
  {
   "cell_type": "code",
   "execution_count": 7,
   "metadata": {},
   "outputs": [
    {
     "name": "stdout",
     "output_type": "stream",
     "text": [
      "1 validation error for User\n",
      "id\n",
      "  Input should be a valid integer, unable to parse string as an integer [type=int_parsing, input_value='err', input_type=str]\n",
      "    For further information visit https://errors.pydantic.dev/2.10/v/int_parsing\n"
     ]
    }
   ],
   "source": [
    "from pydantic import ValidationError\n",
    "\n",
    "try:\n",
    "    user = User(id='err') \n",
    "except ValidationError as e:\n",
    "    print(e)\n"
   ]
  },
  {
   "cell_type": "code",
   "execution_count": 8,
   "metadata": {},
   "outputs": [
    {
     "name": "stdout",
     "output_type": "stream",
     "text": [
      "{'id'}\n"
     ]
    }
   ],
   "source": [
    "print(user.model_fields_set)"
   ]
  },
  {
   "cell_type": "code",
   "execution_count": 9,
   "metadata": {},
   "outputs": [
    {
     "name": "stdout",
     "output_type": "stream",
     "text": [
      "{}\n"
     ]
    }
   ],
   "source": [
    "print(user.model_computed_fields)"
   ]
  },
  {
   "cell_type": "code",
   "execution_count": 10,
   "metadata": {},
   "outputs": [
    {
     "name": "stdout",
     "output_type": "stream",
     "text": [
      "{'id': FieldInfo(annotation=int, required=True), 'name': FieldInfo(annotation=str, required=False, default='Jane Doe')}\n"
     ]
    }
   ],
   "source": [
    "print(user.model_fields)"
   ]
  },
  {
   "cell_type": "code",
   "execution_count": 14,
   "metadata": {},
   "outputs": [
    {
     "name": "stdout",
     "output_type": "stream",
     "text": [
      "{'id': 123, 'name': 'Jane Doe'}\n",
      "Model Dump with skip_defaults=False\n",
      "{'id': 123, 'name': 'Jane Doe'}\n",
      "-----------------\n",
      "Model Dump JSON\n",
      "{\"id\":123,\"name\":\"Jane Doe\"}\n",
      "Model JSON schema\n",
      "{'properties': {'id': {'title': 'Id', 'type': 'integer'},\n",
      "                'name': {'default': 'Jane Doe',\n",
      "                         'title': 'Name',\n",
      "                         'type': 'string'}},\n",
      " 'required': ['id'],\n",
      " 'title': 'User',\n",
      " 'type': 'object'}\n"
     ]
    }
   ],
   "source": [
    "from pprint import pprint\n",
    "print(user.model_dump())\n",
    "print(\"Model Dump with skip_defaults=False\")\n",
    "print(user.model_dump(exclude_defaults=False))\n",
    "print(\"-----------------\")\n",
    "print(\"Model Dump JSON\")\n",
    "print(user.model_dump_json())\n",
    "print(\"Model JSON schema\")\n",
    "pprint(user.model_json_schema())"
   ]
  },
  {
   "cell_type": "markdown",
   "metadata": {},
   "source": [
    "## Nested Models"
   ]
  },
  {
   "cell_type": "code",
   "execution_count": 16,
   "metadata": {},
   "outputs": [
    {
     "name": "stdout",
     "output_type": "stream",
     "text": [
      "name='Tasty Bites' location='123, Flavor Street' foods=[Food(name='Cheese Pizza', price=12.5, ingredients=['Cheese', 'Tomato Sauce', 'Dough']), Food(name='Veggie Burger', price=8.99, ingredients=None)]\n",
      "{'foods': [{'ingredients': ['Cheese', 'Tomato Sauce', 'Dough'],\n",
      "            'name': 'Cheese Pizza',\n",
      "            'price': 12.5},\n",
      "           {'ingredients': None, 'name': 'Veggie Burger', 'price': 8.99}],\n",
      " 'location': '123, Flavor Street',\n",
      " 'name': 'Tasty Bites'}\n"
     ]
    }
   ],
   "source": [
    "from typing import List, Optional\n",
    "from pydantic import BaseModel\n",
    "\n",
    "\n",
    "class Food(BaseModel):\n",
    "    name: str\n",
    "    price: float\n",
    "    ingredients: Optional[List[str]] = None\n",
    "\n",
    "\n",
    "class Restaurant(BaseModel):\n",
    "    name: str\n",
    "    location: str\n",
    "    foods: List[Food]\n",
    "\n",
    "\n",
    "restaurant_instance = Restaurant(\n",
    "    name=\"Tasty Bites\",\n",
    "    location=\"123, Flavor Street\",\n",
    "    foods=[\n",
    "        {\"name\": \"Cheese Pizza\", \"price\": 12.50, \"ingredients\": [\"Cheese\", \"Tomato Sauce\", \"Dough\"]},\n",
    "        {\"name\": \"Veggie Burger\", \"price\": 8.99}\n",
    "    ]\n",
    ")\n",
    "\n",
    "print(restaurant_instance)\n",
    "pprint(restaurant_instance.model_dump())"
   ]
  },
  {
   "cell_type": "code",
   "execution_count": 17,
   "metadata": {},
   "outputs": [
    {
     "name": "stdout",
     "output_type": "stream",
     "text": [
      "Requirement already satisfied: pydantic[email] in /d/pydantic_ai_examples/.venv/lib/python3.12/site-packages (2.10.6)\n",
      "Requirement already satisfied: annotated-types>=0.6.0 in /d/pydantic_ai_examples/.venv/lib/python3.12/site-packages (from pydantic[email]) (0.7.0)\n",
      "Requirement already satisfied: pydantic-core==2.27.2 in /d/pydantic_ai_examples/.venv/lib/python3.12/site-packages (from pydantic[email]) (2.27.2)\n",
      "Requirement already satisfied: typing-extensions>=4.12.2 in /d/pydantic_ai_examples/.venv/lib/python3.12/site-packages (from pydantic[email]) (4.12.2)\n",
      "Collecting email-validator>=2.0.0 (from pydantic[email])\n",
      "  Using cached email_validator-2.2.0-py3-none-any.whl.metadata (25 kB)\n",
      "Collecting dnspython>=2.0.0 (from email-validator>=2.0.0->pydantic[email])\n",
      "  Downloading dnspython-2.7.0-py3-none-any.whl.metadata (5.8 kB)\n",
      "Requirement already satisfied: idna>=2.0.0 in /d/pydantic_ai_examples/.venv/lib/python3.12/site-packages (from email-validator>=2.0.0->pydantic[email]) (3.10)\n",
      "Using cached email_validator-2.2.0-py3-none-any.whl (33 kB)\n",
      "Downloading dnspython-2.7.0-py3-none-any.whl (313 kB)\n",
      "Installing collected packages: dnspython, email-validator\n",
      "Successfully installed dnspython-2.7.0 email-validator-2.2.0\n"
     ]
    }
   ],
   "source": [
    "!pip install pydantic[email]"
   ]
  },
  {
   "cell_type": "markdown",
   "metadata": {},
   "source": [
    "`conlist` is a function provided by the Pydantic library in Python. It is used to create a constrained list type, which allows you to specify certain constraints on the list, such as minimum and maximum length, and the type of items the list can contain.\n",
    "\n",
    "Here's a breakdown of what `conlist` does and how it works:\n",
    "\n",
    "- **Type of items**: You can specify the type of items that the list should contain. For example, `conlist(int)` creates a list that should only contain integers.\n",
    "- **Minimum length**: You can specify the minimum number of items the list should contain using the `min_length` parameter.\n",
    "- **Maximum length**: You can specify the maximum number of items the list should contain using the `max_length` parameter.\n",
    "\n",
    "Here's an example of how to use `conlist`:\n",
    "\n",
    "```python\n",
    "from pydantic import BaseModel, conlist\n",
    "\n",
    "class Employee(BaseModel):\n",
    "    name: str\n",
    "    position: str\n",
    "\n",
    "# Define a constrained list type for a list of Employees with a minimum length of 2\n",
    "EmployeeList = conlist(Employee, min_length=2)\n",
    "\n",
    "class Company(BaseModel):\n",
    "    employees: EmployeeList\n",
    "\n",
    "# Example usage\n",
    "company = Company(employees=[\n",
    "    Employee(name=\"Alice\", position=\"Developer\"),\n",
    "    Employee(name=\"Bob\", position=\"Manager\")\n",
    "])\n",
    "\n",
    "print(company)\n",
    "```\n",
    "\n",
    "In this example:\n",
    "- `Employee` is a Pydantic model representing an employee.\n",
    "- `EmployeeList` is a constrained list type that requires the list to contain at least 2 `Employee` objects.\n",
    "- `Company` is a Pydantic model that uses `EmployeeList` as the type for its `employees` attribute.\n",
    "\n",
    "By using `conlist`, you can enforce constraints on the list, ensuring that it meets the specified requirements."
   ]
  },
  {
   "cell_type": "code",
   "execution_count": 20,
   "metadata": {},
   "outputs": [],
   "source": [
    "from typing import List\n",
    "from pydantic import BaseModel, EmailStr, PositiveInt, conlist, Field, HttpUrl\n",
    "\n",
    "class Address(BaseModel):\n",
    "    street: str\n",
    "    city: str\n",
    "    state: str\n",
    "    zip_code: str\n",
    "\n",
    "class Employee(BaseModel):\n",
    "    name: str\n",
    "    position: str\n",
    "    email: EmailStr\n",
    "\n",
    "# Define a new type for a list of Employees with a minimum length of 2\n",
    "EmployeeList = conlist(Employee, min_length=2)\n",
    "\n",
    "class Owner(BaseModel):\n",
    "    name: str\n",
    "    email: EmailStr\n",
    "    \n",
    "class Restaurant(BaseModel):\n",
    "    name: str = Field(..., pattern=r\"^[a-zA-Z0-9-' ]+$\")\n",
    "    owner: Owner\n",
    "    address: Address\n",
    "    employees: EmployeeList\n",
    "    number_of_seats: PositiveInt\n",
    "    delivery: bool\n",
    "    website: HttpUrl"
   ]
  },
  {
   "cell_type": "code",
   "execution_count": 22,
   "metadata": {},
   "outputs": [
    {
     "name": "stdout",
     "output_type": "stream",
     "text": [
      "{'address': {'city': 'Tastytown',\n",
      "             'state': 'TS',\n",
      "             'street': '123, Flavor Street',\n",
      "             'zip_code': '12345'},\n",
      " 'delivery': True,\n",
      " 'employees': [{'email': 'jane.doe@example.com',\n",
      "                'name': 'Jane Doe',\n",
      "                'position': 'Chef'},\n",
      "               {'email': 'mike.roe@example.com',\n",
      "                'name': 'Mike Roe',\n",
      "                'position': 'Waiter'}],\n",
      " 'name': 'Tasty Bites',\n",
      " 'number_of_seats': 50,\n",
      " 'owner': {'email': 'john.doe@example.com', 'name': 'John Doe'},\n",
      " 'website': HttpUrl('http://tastybites.com/')}\n"
     ]
    }
   ],
   "source": [
    "# Creating an instance of the Restaurant class\n",
    "restaurant_instance = Restaurant(\n",
    "    name=\"Tasty Bites\",\n",
    "    owner={\n",
    "        \"name\": \"John Doe\",\n",
    "        \"email\": \"john.doe@example.com\"\n",
    "    },\n",
    "    address={\n",
    "        \"street\": \"123, Flavor Street\",\n",
    "        \"city\": \"Tastytown\",\n",
    "        \"state\": \"TS\",\n",
    "        \"zip_code\": \"12345\",\n",
    "    },\n",
    "    employees=[\n",
    "        {\n",
    "            \"name\": \"Jane Doe\",\n",
    "            \"position\": \"Chef\",\n",
    "            \"email\": \"jane.doe@example.com\"\n",
    "        },\n",
    "        {\n",
    "            \"name\": \"Mike Roe\",\n",
    "            \"position\": \"Waiter\",\n",
    "            \"email\": \"mike.roe@example.com\"\n",
    "        }\n",
    "    ],\n",
    "    number_of_seats=50,\n",
    "    delivery=True,\n",
    "    website=\"http://tastybites.com\"\n",
    ")\n",
    "\n",
    "# Printing the instance\n",
    "pprint(restaurant_instance.model_dump())"
   ]
  },
  {
   "cell_type": "markdown",
   "metadata": {},
   "source": [
    "## Field Validators"
   ]
  },
  {
   "cell_type": "code",
   "execution_count": 24,
   "metadata": {},
   "outputs": [
    {
     "name": "stdout",
     "output_type": "stream",
     "text": [
      "1 validation error for Owner\n",
      "name\n",
      "  Value error, Owner name must contain a space [type=value_error, input_value='JohnDoe', input_type=str]\n",
      "    For further information visit https://errors.pydantic.dev/2.10/v/value_error\n"
     ]
    }
   ],
   "source": [
    "from pydantic import BaseModel, Field, EmailStr, field_validator\n",
    "\n",
    "class Owner(BaseModel):\n",
    "    name: str\n",
    "    email: EmailStr\n",
    "\n",
    "    @field_validator(\"name\")\n",
    "    @classmethod\n",
    "    def name_must_contain_space(cls, v):\n",
    "        if ' ' not in v:\n",
    "            raise ValueError('Owner name must contain a space')\n",
    "        return v.title()\n",
    "    \n",
    "\n",
    "try:\n",
    "    owner = Owner(name=\"JohnDoe\", email=\"john@email.com\")\n",
    "except ValidationError as e:\n",
    "    print(e)"
   ]
  },
  {
   "cell_type": "code",
   "execution_count": 25,
   "metadata": {},
   "outputs": [
    {
     "name": "stdout",
     "output_type": "stream",
     "text": [
      "Omar Hosney\n"
     ]
    }
   ],
   "source": [
    "try:\n",
    "    owner = Owner(name=\"omar hosney\", email=\"john@email.com\")\n",
    "except ValidationError as e:\n",
    "    print(e)\n",
    "\n",
    "print(owner.name)"
   ]
  },
  {
   "cell_type": "markdown",
   "metadata": {},
   "source": [
    "## Model validators\n",
    "In Pydantic, the `@model_validator` decorator is used to define custom validation logic for a model. This allows you to perform additional checks and transformations on the data after the standard validation has been performed. The `@model_validator` decorator can be applied to methods within a Pydantic model class to enforce custom validation rules.\n",
    "\n",
    "Here's a breakdown of how `@model_validator` works:\n",
    "\n",
    "- **Custom validation**: You can define custom validation logic that runs after the standard Pydantic validation.\n",
    "- **Class method**: The method decorated with `@model_validator` should be a class method, meaning it takes `cls` as its first parameter.\n",
    "- **Post-validation**: The custom validation method is called after the standard validation has been completed.\n",
    "\n",
    "Here's an example to illustrate the use of `@model_validator`:\n",
    "\n",
    "```python\n",
    "from pydantic import BaseModel, validator, ValidationError\n",
    "\n",
    "class User(BaseModel):\n",
    "    username: str\n",
    "    age: int\n",
    "\n",
    "    @validator('age')\n",
    "    def check_age(cls, value):\n",
    "        if value < 18:\n",
    "            raise ValueError('Age must be at least 18')\n",
    "        return value\n",
    "\n",
    "    @validator('username')\n",
    "    def check_username(cls, value):\n",
    "        if not value.isalnum():\n",
    "            raise ValueError('Username must be alphanumeric')\n",
    "        return value\n",
    "\n",
    "# Example usage\n",
    "try:\n",
    "    user = User(username='john_doe', age=17)\n",
    "except ValidationError as e:\n",
    "    print(e)\n",
    "\n",
    "try:\n",
    "    user = User(username='john@doe', age=20)\n",
    "except ValidationError as e:\n",
    "    print(e)\n",
    "\n",
    "user = User(username='johndoe', age=20)\n",
    "print(user)\n",
    "```\n",
    "\n",
    "In this example:\n",
    "- The `User` model has two fields: `username` and `age`.\n",
    "- The `check_age` method is a custom validator for the `age` field, ensuring that the age is at least 18.\n",
    "- The `check_username` method is a custom validator for the `username` field, ensuring that the username is alphanumeric.\n",
    "\n",
    "When creating an instance of the `User` model, the custom validators are called to enforce the additional validation rules. If the validation fails, a `ValidationError` is raised.\n",
    "\n",
    "Note: The `@model_validator` decorator is not a built-in decorator in Pydantic. Instead, you should use the `@validator` decorator as shown in the example above. The `@validator` decorator is used to define custom validation logic for individual fields in a Pydantic model."
   ]
  },
  {
   "cell_type": "code",
   "execution_count": 47,
   "metadata": {},
   "outputs": [],
   "source": [
    "from pydantic import model_validator\n",
    "from typing import Any\n",
    "\n",
    "class Owner(BaseModel):\n",
    "    name: str\n",
    "    email: EmailStr\n",
    "\n",
    "    @model_validator(mode='before')\n",
    "    @classmethod\n",
    "    def check_senstive_info_omitted(cls, data:Any) -> Any:\n",
    "        if isinstance(data, dict):\n",
    "            if 'password' in data:\n",
    "                raise ValueError(\"Password field is not allowed\")\n",
    "            if 'card_number' in data:\n",
    "                raise ValueError(\"Card number field is not allowed\")    \n",
    "            \n",
    "            return data\n",
    "        \n",
    "    @model_validator(mode='after')\n",
    "    def check_name_contains_space(self) -> Owner:\n",
    "        if ' ' not in self.name:\n",
    "            raise ValueError('Owner name must contain a space')\n",
    "        return self "
   ]
  },
  {
   "cell_type": "code",
   "execution_count": 48,
   "metadata": {},
   "outputs": [],
   "source": [
    "try:\n",
    "    owner = Owner(name=\"John Doe\", email=\"zorba@gmail.com\", Address=\"123, Flavor Street\")\n",
    "except Exception as e:\n",
    "    print(e)"
   ]
  },
  {
   "cell_type": "code",
   "execution_count": 49,
   "metadata": {},
   "outputs": [
    {
     "name": "stdout",
     "output_type": "stream",
     "text": [
      "{'email': 'zorba@gmail.com', 'name': 'John Doe'}\n"
     ]
    }
   ],
   "source": [
    "pprint(owner.model_dump())"
   ]
  },
  {
   "cell_type": "code",
   "execution_count": 50,
   "metadata": {},
   "outputs": [
    {
     "name": "stdout",
     "output_type": "stream",
     "text": [
      "1 validation error for Owner\n",
      "  Value error, Password field is not allowed [type=value_error, input_value={'name': 'John Doe', 'ema...', 'password': '123456'}, input_type=dict]\n",
      "    For further information visit https://errors.pydantic.dev/2.10/v/value_error\n"
     ]
    }
   ],
   "source": [
    "try:\n",
    "    owner2 = Owner(name=\"John Doe\", email=\"zorba@gmail.com\", Address=\"123, Flavor Street\",password=\"123456\")\n",
    "except Exception as e:\n",
    "    print(e)"
   ]
  },
  {
   "cell_type": "code",
   "execution_count": 51,
   "metadata": {},
   "outputs": [
    {
     "name": "stdout",
     "output_type": "stream",
     "text": [
      "{'name': 'John Doe', 'email': 'zorba@gmail.com'}\n"
     ]
    }
   ],
   "source": [
    "print(owner2.model_dump())"
   ]
  },
  {
   "cell_type": "markdown",
   "metadata": {},
   "source": [
    "## More usage of Field\n"
   ]
  },
  {
   "cell_type": "markdown",
   "metadata": {},
   "source": [
    "### Default Values"
   ]
  },
  {
   "cell_type": "code",
   "execution_count": 56,
   "metadata": {},
   "outputs": [
    {
     "data": {
      "text/plain": [
       "{'name': 'John Doe',\n",
       " 'email': 'name@example.com',\n",
       " 'id': '8602b350a7e74bcbaa23aa3838e72545'}"
      ]
     },
     "execution_count": 56,
     "metadata": {},
     "output_type": "execute_result"
    }
   ],
   "source": [
    "from pydantic import Field\n",
    "from uuid import uuid4\n",
    "\n",
    "class Owner(BaseModel):\n",
    "    name: str = Field(default=\"John Doe\")\n",
    "    email: EmailStr = Field(default=\"name@example.com\")\n",
    "    id: str = Field(default_factory=lambda: uuid4().hex)\n",
    "\n",
    "\n",
    "owner = Owner()\n",
    "owner.model_dump()"
   ]
  },
  {
   "cell_type": "markdown",
   "metadata": {},
   "source": [
    "### Aliases"
   ]
  },
  {
   "cell_type": "code",
   "execution_count": 58,
   "metadata": {},
   "outputs": [
    {
     "name": "stdout",
     "output_type": "stream",
     "text": [
      "{'name': 'John Doe'}\n",
      "Model Dump by alias\n",
      "{'full_name': 'John Doe'}\n"
     ]
    }
   ],
   "source": [
    "class User(BaseModel):\n",
    "    name: str = Field(...,alias=\"full_name\")\n",
    "\n",
    "u = User(full_name=\"John Doe\")\n",
    "print(u.model_dump())\n",
    "print(\"Model Dump by alias\")\n",
    "print(u.model_dump(by_alias=True))\n"
   ]
  },
  {
   "cell_type": "markdown",
   "metadata": {},
   "source": []
  },
  {
   "cell_type": "markdown",
   "metadata": {},
   "source": [
    "# Field Constraints\n",
    "\n",
    "In the `User` model, various field constraints are applied using the `Field` function from Pydantic. These constraints help enforce specific rules for the data validation. Here are the constraints used in the code:"
   ]
  },
  {
   "cell_type": "code",
   "execution_count": 62,
   "metadata": {},
   "outputs": [],
   "source": [
    "from decimal import Decimal\n",
    "from pydantic import BaseModel, Field\n",
    "\n",
    "class User(BaseModel):\n",
    "    name: str = Field(..., min_length=2, max_length=50)\n",
    "    age: int = Field(..., gt=0, le=150)\n",
    "    height: Decimal = Field(..., gt=0)\n",
    "    weight: float = Field(..., ge=0)\n",
    "    score: Decimal = Field(..., multiple_of=0.1)\n",
    "    balance: Decimal = Field(..., max_digits=10, decimal_places=2)\n",
    "    is_student: bool = Field(...)"
   ]
  },
  {
   "cell_type": "markdown",
   "metadata": {},
   "source": [
    "\n",
    "\n",
    "### Constraints Explanation\n",
    "\n",
    "- **name: str**\n",
    "  - `min_length=2`: The name must be at least 2 characters long.\n",
    "  - `max_length=50`: The name must be at most 50 characters long.\n",
    "\n",
    "- **age: int**\n",
    "  - `gt=0`: The age must be greater than 0.\n",
    "  - `le=150`: The age must be less than or equal to 150.\n",
    "\n",
    "- **height: Decimal**\n",
    "  - `gt=0`: The height must be greater than 0.\n",
    "\n",
    "- **weight: float**\n",
    "  - `ge=0`: The weight must be greater than or equal to 0.\n",
    "\n",
    "- **score: Decimal**\n",
    "  - `multiple_of=0.1`: The score must be a multiple of 0.1.\n",
    "\n",
    "- **balance: Decimal**\n",
    "  - `max_digits=10`: The balance can have a maximum of 10 digits in total.\n",
    "  - `decimal_places=2`: The balance can have up to 2 decimal places.\n",
    "\n",
    "- **is_student: bool**\n",
    "  - No additional constraints are applied, but the field is required (indicated by `...`).\n",
    "\n",
    "These constraints ensure that the data provided to the `User` model adheres to the specified rules, helping to maintain data integrity and validity."
   ]
  },
  {
   "cell_type": "code",
   "execution_count": 63,
   "metadata": {},
   "outputs": [
    {
     "name": "stdout",
     "output_type": "stream",
     "text": [
      "5 validation errors for User\n",
      "name\n",
      "  String should have at least 2 characters [type=string_too_short, input_value='A', input_type=str]\n",
      "    For further information visit https://errors.pydantic.dev/2.10/v/string_too_short\n",
      "age\n",
      "  Input should be greater than 0 [type=greater_than, input_value=0, input_type=int]\n",
      "    For further information visit https://errors.pydantic.dev/2.10/v/greater_than\n",
      "height\n",
      "  Input should be greater than 0 [type=greater_than, input_value=-1, input_type=int]\n",
      "    For further information visit https://errors.pydantic.dev/2.10/v/greater_than\n",
      "weight\n",
      "  Input should be greater than or equal to 0 [type=greater_than_equal, input_value=-1, input_type=int]\n",
      "    For further information visit https://errors.pydantic.dev/2.10/v/greater_than_equal\n",
      "balance\n",
      "  Decimal input should have no more than 2 decimal places [type=decimal_max_places, input_value=100.123, input_type=float]\n",
      "    For further information visit https://errors.pydantic.dev/2.10/v/decimal_max_places\n"
     ]
    }
   ],
   "source": [
    "try:\n",
    "    user = User(name=\"A\", age=0, \n",
    "                height=-1, weight=-1, \n",
    "                score=0.2, \n",
    "                balance=100.123, \n",
    "                is_student=\"True\")\n",
    "except ValidationError as e:\n",
    "    print(e)"
   ]
  },
  {
   "cell_type": "markdown",
   "metadata": {},
   "source": [
    "The output indicates that there are multiple validation errors when trying to create an instance of the `User` model. Here's a breakdown of each error message:\n",
    "\n"
   ]
  },
  {
   "cell_type": "markdown",
   "metadata": {},
   "source": [
    "\n",
    "\n",
    "### Errors\n",
    "\n",
    "1. **name**\n",
    "   - **String should have at least 2 characters**: The `name` field must have at least 2 characters.\n",
    "   - **type=string_too_short**: The type of error is \"string_too_short\".\n",
    "   - **input_value='A'**: The provided value is 'A'.\n",
    "   - **input_type=str**: The type of the input is a string.\n",
    "\n",
    "2. **age**\n",
    "   - **Input should be greater than 0**: The `age` field must be greater than 0.\n",
    "   - **type=greater_than**: The type of error is \"greater_than\".\n",
    "   - **input_value=0**: The provided value is 0.\n",
    "   - **input_type=int**: The type of the input is an integer.\n",
    "\n",
    "3. **height**\n",
    "   - **Input should be greater than 0**: The `height` field must be greater than 0.\n",
    "   - **type=greater_than**: The type of error is \"greater_than\".\n",
    "   - **input_value=-1**: The provided value is -1.\n",
    "   - **input_type=int**: The type of the input is an integer.\n",
    "\n",
    "4. **weight**\n",
    "   - **Input should be greater than or equal to 0**: The `weight` field must be greater than or equal to 0.\n",
    "   - **type=greater_than_equal**: The type of error is \"greater_than_equal\".\n",
    "   - **input_value=-1**: The provided value is -1.\n",
    "   - **input_type=int**: The type of the input is an integer.\n",
    "\n",
    "5. **balance**\n",
    "   - **Decimal input should have no more than 2 decimal places**: The `balance` field must have no more than 2 decimal places.\n",
    "   - **type=decimal_max_places**: The type of error is \"decimal_max_places\".\n",
    "   - **input_value=100.123**: The provided value is 100.123.\n",
    "   - **input_type=float**: The type of the input is a float.\n",
    "\n",
    "### Cause\n",
    "\n",
    "Each error occurs because the provided input data does not meet the constraints defined in the `User` model.\n",
    "\n"
   ]
  },
  {
   "cell_type": "code",
   "execution_count": 66,
   "metadata": {},
   "outputs": [
    {
     "name": "stdout",
     "output_type": "stream",
     "text": [
      "{'age': 25,\n",
      " 'balance': Decimal('100.12'),\n",
      " 'height': Decimal('1.75'),\n",
      " 'is_student': True,\n",
      " 'name': 'John',\n",
      " 'score': Decimal('9.5'),\n",
      " 'weight': 70.0}\n"
     ]
    }
   ],
   "source": [
    "from decimal import Decimal\n",
    "from pydantic import BaseModel, Field\n",
    "\n",
    "class User(BaseModel):\n",
    "    name: str = Field(..., min_length=2, max_length=50)\n",
    "    age: int = Field(..., gt=0, le=150)\n",
    "    height: Decimal = Field(..., gt=0)\n",
    "    weight: float = Field(..., ge=0)\n",
    "    score: Decimal = Field(..., multiple_of=0.1)\n",
    "    balance: Decimal = Field(..., max_digits=10, decimal_places=2)\n",
    "    is_student: bool = Field(...)\n",
    "\n",
    "# Correct input data\n",
    "user_data = {\n",
    "    'name': 'John',\n",
    "    'age': 25,\n",
    "    'height': Decimal('1.75'),\n",
    "    'weight': 70.0,\n",
    "    'score': Decimal('9.5'),\n",
    "    'balance': Decimal('100.12'),\n",
    "    'is_student': True\n",
    "}\n",
    "\n",
    "user = User(**user_data)\n",
    "pprint(user.model_dump())"
   ]
  },
  {
   "cell_type": "markdown",
   "metadata": {},
   "source": [
    "\n",
    "\n",
    "By providing valid input data that adheres to the constraints, the validation errors will be resolved."
   ]
  },
  {
   "cell_type": "markdown",
   "metadata": {},
   "source": [
    "## Pydantic: Computed Fields\n",
    "\n",
    "In Pydantic, computed fields are fields whose values are derived from other fields in the model. These fields are not directly set by the user but are computed based on the values of other fields. Computed fields can be implemented using the `@property` decorator or by defining methods that compute the values.\n",
    "\n",
    "### Example\n",
    "\n",
    "Here's an example of how to define computed fields in a Pydantic model:\n",
    "\n"
   ]
  },
  {
   "cell_type": "code",
   "execution_count": 67,
   "metadata": {},
   "outputs": [
    {
     "name": "stdout",
     "output_type": "stream",
     "text": [
      "5.5\n",
      "8\n"
     ]
    }
   ],
   "source": [
    "from pydantic import BaseModel, Field, computed_field\n",
    "from typing import List\n",
    "\n",
    "class Item(BaseModel):\n",
    "    name: str\n",
    "    price: float\n",
    "    quantity: int\n",
    "\n",
    "class Order(BaseModel):\n",
    "    items: List[Item]\n",
    "\n",
    "    @computed_field\n",
    "    @property\n",
    "    def total_price(self) -> float:\n",
    "        return sum(item.price * item.quantity for item in self.items)\n",
    "\n",
    "    @computed_field\n",
    "    @property\n",
    "    def item_count(self) -> int:\n",
    "        return sum(item.quantity for item in self.items)\n",
    "\n",
    "# Example usage\n",
    "order = Order(items=[\n",
    "    Item(name='Apple', price=1.0, quantity=3),\n",
    "    Item(name='Banana', price=0.5, quantity=5)\n",
    "])\n",
    "\n",
    "print(order.total_price)  # Output: 5.5\n",
    "print(order.item_count)   # Output: 8"
   ]
  },
  {
   "cell_type": "markdown",
   "metadata": {},
   "source": [
    "\n",
    "\n",
    "## Explanation\n",
    "\n",
    "- **Item Model**: Represents an item with `name`, `price`, and `quantity` fields.\n",
    "- **Order Model**: Represents an order containing a list of items.\n",
    "  - **total_price**: A computed field that calculates the total price of all items in the order. It uses the `@property` decorator to define a method that sums the product of `price` and `quantity` for each item.\n",
    "  - **item_count**: A computed field that calculates the total number of items in the order. It uses the `@property` decorator to define a method that sums the `quantity` of each item.\n",
    "\n",
    "## Benefits\n",
    "\n",
    "- **Encapsulation**: Computed fields encapsulate the logic for deriving values, making the model cleaner and easier to maintain.\n",
    "- **Consistency**: Ensures that derived values are always consistent with the base data.\n",
    "- **Readability**: Improves readability by providing meaningful properties that represent computed values.\n",
    "\n",
    "Computed fields in Pydantic models help to keep the data consistent and encapsulate the logic for derived values, making the models more robust and easier to work with."
   ]
  },
  {
   "cell_type": "markdown",
   "metadata": {},
   "source": [
    "The `@computed_field` decorator in Pydantic is specifically designed for defining computed fields that are included in the model's schema and serialization. This is different from the `@property` decorator, which only defines a property on the class and does not include it in the model's schema or serialization by default.\n",
    "\n",
    "Here's a comparison of what each decorator does in the context of Pydantic models:\n",
    "\n",
    "### `@property`\n",
    "\n",
    "- Defines a property on the class.\n",
    "- The property is not included in the model's schema.\n",
    "- The property is not included in the model's serialization (e.g., when converting to JSON).\n",
    "\n",
    "### `@computed_field`\n",
    "\n",
    "- Defines a computed field that is included in the model's schema.\n",
    "- The computed field is included in the model's serialization.\n",
    "- The computed field is automatically computed based on other fields in the model.\n",
    "\n",
    "\n",
    "- **total_price_property**: Defined using the `@property` decorator. It is not included in the model's schema or serialization.\n",
    "- **total_price_computed**: Defined using the `@computed_field` decorator. It is included in the model's schema and serialization.\n",
    "\n",
    "### Benefits of `@computed_field`\n",
    "\n",
    "- **Schema Inclusion**: The computed field is included in the model's schema, making it visible in generated documentation and validation.\n",
    "- **Serialization**: The computed field is included in the model's serialization, ensuring that it is part of the output when converting the model to JSON or other formats.\n",
    "\n",
    "Using `@computed_field` is beneficial when you need the computed field to be part of the model's schema and serialization, providing a more complete and consistent representation of the model's data.\n",
    "\n",
    "> In Pydantic, you cannot directly apply a validator to a computed field using the `@validator` decorator because validators are designed to work with fields that are explicitly defined in the model. However, you can achieve similar functionality by using the `@root_validator` decorator, which allows you to validate the entire model after all fields have been populated, including computed fields.\n"
   ]
  },
  {
   "cell_type": "markdown",
   "metadata": {},
   "source": []
  }
 ],
 "metadata": {
  "kernelspec": {
   "display_name": ".venv",
   "language": "python",
   "name": "python3"
  },
  "language_info": {
   "codemirror_mode": {
    "name": "ipython",
    "version": 3
   },
   "file_extension": ".py",
   "mimetype": "text/x-python",
   "name": "python",
   "nbconvert_exporter": "python",
   "pygments_lexer": "ipython3",
   "version": "3.12.8"
  }
 },
 "nbformat": 4,
 "nbformat_minor": 2
}

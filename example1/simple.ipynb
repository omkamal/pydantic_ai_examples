{
 "cells": [
  {
   "cell_type": "code",
   "execution_count": null,
   "metadata": {},
   "outputs": [
    {
     "name": "stderr",
     "output_type": "stream",
     "text": [
      "/tmp/ipykernel_70158/601299363.py:10: LogfireNotConfiguredWarning: No logs or spans will be created until `logfire.configure()` has been called. Set the environment variable LOGFIRE_IGNORE_NO_CONFIG=1 or add ignore_no_config=true in pyproject.toml to suppress this warning.\n",
      "  result = await agent.run('Where does \"hello world\" come from?')\n"
     ]
    },
    {
     "name": "stdout",
     "output_type": "stream",
     "text": [
      "\"Hello, World!\" originated from the 1972 programming language tutorial for the B language and has since become a common example for demonstrating basic programming syntax.\n"
     ]
    }
   ],
   "source": [
    "import asyncio \n",
    "from pydantic_ai import Agent, RunContext\n",
    "\n",
    "agent = Agent(\n",
    "    'openai:gpt-4o-mini',\n",
    "    system_prompt='Be concise, reply with one sentence.',\n",
    ")\n",
    "\n",
    "async def get_result(): # or in top-level Jupyter cell:\n",
    "    result = await agent.run('Where does \"hello world\" come from?')  \n",
    "    return result.data\n",
    "\n",
    "# In IPython/Jupyter:\n",
    "result = await get_result()  # Direct await in a cell.\n",
    "print(result)\n"
   ]
  },
  {
   "cell_type": "code",
   "execution_count": null,
   "metadata": {},
   "outputs": [
    {
     "name": "stdout",
     "output_type": "stream",
     "text": [
      "RunResult(_all_messages=[UserPrompt(content='Get me info on the latest iPhone.', timestamp=datetime.datetime(2024, 12, 8, 23, 59, 29, 329662, tzinfo=datetime.timezone.utc), role='user'), ModelStructuredResponse(calls=[ToolCall(tool_name='get_product_info', args=ArgsJson(args_json='{\"msg\":\"latest iPhone\"}'), tool_id='call_Q4JBWZYE4DtGJehwZ87VH49z')], timestamp=datetime.datetime(2024, 12, 8, 23, 59, 29, tzinfo=datetime.timezone.utc), role='model-structured-response'), ToolReturn(tool_name='get_product_info', content='latest iPhone', tool_id='call_Q4JBWZYE4DtGJehwZ87VH49z', timestamp=datetime.datetime(2024, 12, 8, 23, 59, 29, 804753, tzinfo=datetime.timezone.utc), role='tool-return'), ModelStructuredResponse(calls=[ToolCall(tool_name='final_result', args=ArgsJson(args_json='{\"name\":\"iPhone 15 Pro\",\"price\":999,\"category\":\"Smartphones\"}'), tool_id='call_JCwp8dt2ORClsuY6jJOsjtRQ')], timestamp=datetime.datetime(2024, 12, 8, 23, 59, 29, tzinfo=datetime.timezone.utc), role='model-structured-response')], _new_message_index=0, data=ProductInfo(name='iPhone 15 Pro', price=999.0, category='Smartphones'), _cost=Cost(request_tokens=255, response_tokens=44, total_tokens=299, details={'accepted_prediction_tokens': 0, 'audio_tokens': 0, 'reasoning_tokens': 0, 'rejected_prediction_tokens': 0, 'cached_tokens': 0}))\n",
      "Product: iPhone 15 Pro\n",
      "Price: $999.0\n",
      "Category: Smartphones\n"
     ]
    }
   ],
   "source": [
    "from pydantic import BaseModel, Field\n",
    "from pydantic_ai import Agent, RunContext\n",
    "import logfire\n",
    "logfire.configure()  \n",
    "logfire.instrument_asyncpg()  \n",
    "\n",
    "class ProductInfo(BaseModel):\n",
    "  name: str = Field(..., description=\"Name of the product.\")\n",
    "  price: float = Field(..., gt=0, description=\"Price of the product.\")\n",
    "  category: str\n",
    "\n",
    "\n",
    "\n",
    "agent = Agent(\"openai:gpt-4o-mini\", result_type=ProductInfo)\n",
    "\n",
    "# Define a tool function to get fake product info (replace with actual API call later).\n",
    "@agent.tool_plain \n",
    "def get_product_info(msg) -> ProductInfo:\n",
    "  return msg\n",
    "\n",
    "\n",
    "async def get_result(): # or in top-level Jupyter cell:\n",
    "    result = await agent.run(\"Get me info on the latest iPhone.\") \n",
    "    return result\n",
    "\n",
    "result = await get_result()\n",
    "\n",
    "print(result)\n",
    "\n",
    "if isinstance(result.data, ProductInfo):  # Handle cases where the LLM didn't return structured data correctly\n",
    "    print(f\"Product: {result.data.name}\")\n",
    "    print(f\"Price: ${result.data.price}\")\n",
    "    print(f\"Category: {result.data.category}\")\n",
    "else:\n",
    "    print(\"The LLM did not return valid product information.\")"
   ]
  },
  {
   "cell_type": "code",
   "execution_count": 30,
   "metadata": {},
   "outputs": [
    {
     "name": "stdout",
     "output_type": "stream",
     "text": [
      "Today's date is December 8, 2024.\n"
     ]
    }
   ],
   "source": [
    "from datetime import datetime\n",
    "# Initialize the agent with the tool.\n",
    "agent2 = Agent(\"openai:gpt-4o-mini\")\n",
    "# Define a tool to get the current date.\n",
    "@agent2.tool\n",
    "async def get_today_date(ctx: RunContext) -> str:  \n",
    "  \"\"\"Returns the current date.\"\"\"\n",
    "  today = datetime.today()\n",
    "  return str(today)\n",
    "\n",
    "# Run the agent with a prompt that requires the tool.\n",
    "result =await agent2.run(\"What is today's date?\")\n",
    "# Print the agent's response.\n",
    "print(result.data) #  Will include the current date."
   ]
  },
  {
   "cell_type": "code",
   "execution_count": null,
   "metadata": {},
   "outputs": [],
   "source": []
  }
 ],
 "metadata": {
  "kernelspec": {
   "display_name": ".venv",
   "language": "python",
   "name": "python3"
  },
  "language_info": {
   "codemirror_mode": {
    "name": "ipython",
    "version": 3
   },
   "file_extension": ".py",
   "mimetype": "text/x-python",
   "name": "python",
   "nbconvert_exporter": "python",
   "pygments_lexer": "ipython3",
   "version": "3.12.3"
  }
 },
 "nbformat": 4,
 "nbformat_minor": 2
}
